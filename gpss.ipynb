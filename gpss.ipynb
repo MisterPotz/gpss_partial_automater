{
 "metadata": {
  "language_info": {
   "codemirror_mode": {
    "name": "ipython",
    "version": 3
   },
   "file_extension": ".py",
   "mimetype": "text/x-python",
   "name": "python",
   "nbconvert_exporter": "python",
   "pygments_lexer": "ipython3",
   "version": "3.8.5-final"
  },
  "orig_nbformat": 2,
  "kernelspec": {
   "name": "python3",
   "display_name": "Python 3.8.5 64-bit ('base': conda)",
   "metadata": {
    "interpreter": {
     "hash": "0502f4d0b368ea295d19c82d840b74bf66f130c43fd090cbf09d4b521f9f7a54"
    }
   }
  }
 },
 "nbformat": 4,
 "nbformat_minor": 2,
 "cells": [
  {
   "cell_type": "code",
   "execution_count": 3,
   "metadata": {},
   "outputs": [],
   "source": [
    "import numpy as np\n",
    "from pathlib import *\n",
    "import re"
   ]
  },
  {
   "cell_type": "code",
   "execution_count": 38,
   "metadata": {},
   "outputs": [
    {
     "output_type": "stream",
     "name": "stdout",
     "text": [
      "matched facility block FACILITY         ENTRIES  UTIL.   AVE. TIME AVAIL. OWNER PEND INTER RETRY DELAY\n\n FMS_OUT             6    0     75      0     1.013    110.337    110.337   0\n\n"
     ]
    }
   ],
   "source": [
    "reports_folder = Path(\"./reports/\")\n",
    "\n",
    "# must format the output folder\n",
    "for i in reports_folder.iterdir():\n",
    "    # remove unnecessary data from file if possible\n",
    "    lines = []\n",
    "    with i.open('r') as file:\n",
    "        lines = file.readlines()\n",
    "    slice_index1 = -1\n",
    "    slice_index2 = -1\n",
    "    pattern_name_value_block = re.compile(r\".*(NAME).*(VALUE).*\")\n",
    "    pattern_facility_block = re.compile(r\".*(FACILITY).*\")\n",
    "    pattern_header = re.compile(r\".*(GPSS World Simulation Report).*\")\n",
    "\n",
    "    for index, line in enumerate(lines):\n",
    "        if re.match(pattern_name_value_block, line.strip()) is not None:\n",
    "            print(\"matched name value block \", line)\n",
    "            slice_index1 = index\n",
    "            continue\n",
    "        if re.match(pattern_facility_block, line.strip()) is not None:\n",
    "            print(\"matched facility block\", line)\n",
    "            slice_index2 = index\n",
    "\n",
    "    if slice_index1 > -1:\n",
    "        lines = lines[:slice_index1] + lines[slice_index2:]  \n",
    "    indices_to_filter = list()\n",
    "    for index, line in enumerate(lines):\n",
    "        if re.match(pattern_header, line.strip()) is not None:\n",
    "            indices_to_filter.extend(list(range(index, index + 4)))\n",
    "    lines = list(filter(lambda x: x[0] not in indices_to_filter, enumerate(lines)))\n",
    "    lines = list(map(lambda x: x[1], lines))\n",
    "\n",
    "    if re.fullmatch(r\".*(RMULT).*\", lines[0].strip()) is None:\n",
    "        print(\"no RMULT found\")\n",
    "        order_index = i.name\n",
    "        gpss_generated=Path(\"./gpss_experiment_scripts/\")\n",
    "        related_file_with_mult = gpss_generated.joinpath(f\"{order_index}\")\n",
    "        first_line = None\n",
    "        with related_file_with_mult.open('r') as file:\n",
    "            lines1 = file.readlines()\n",
    "            first_line = lines1[0]\n",
    "        lines.insert(0, first_line)\n",
    "\n",
    "    # on the end of the file there are bad symbols\n",
    "    pattern_queue_entity =re.compile(r\"[\\s]*[A-Z0-9_]+[\\s]+[0-9]+[\\s]+[0-9]+.*\")\n",
    "\n",
    "    queue_last = len(lines)\n",
    "    for index, line in enumerate(lines[::-1]):\n",
    "        if re.fullmatch(pattern_queue_entity, line.strip()) is not None:\n",
    "            print(line)\n",
    "            queue_last = -index\n",
    "            break\n",
    "    if (queue_last < 0):\n",
    "        lines = lines[:queue_last]\n",
    "    \n",
    "    with i.open('w') as file:\n",
    "        file.writelines(lines)"
   ]
  },
  {
   "cell_type": "code",
   "execution_count": 12,
   "metadata": {},
   "outputs": [
    {
     "output_type": "stream",
     "name": "stdout",
     "text": [
      "<re.Match object; span=(0, 52), match='              GPSS World Simulation Report - dz.3>\n"
     ]
    }
   ],
   "source": [
    "test = \"\"\"              GPSS World Simulation Report - dz.39.1\n",
    "\"\"\"\n",
    "test1 = \"\"\" sdafsdf GPSS sdfsdfsf \"\"\"\n",
    "pattern = re.compile(r\".*(GPSS World Simulation Report).*\")\n",
    "print(re.match(pattern, test))"
   ]
  },
  {
   "cell_type": "code",
   "execution_count": 25,
   "metadata": {},
   "outputs": [
    {
     "output_type": "execute_result",
     "data": {
      "text/plain": [
       "True"
      ]
     },
     "metadata": {},
     "execution_count": 25
    }
   ],
   "source": [
    "pattern =re.compile(r\".*[A-Z0-9][\\s]+[0-9]+[\\s]+[0-9]+.*\")\n",
    "test = \"\"\" FMS_OUT             6    0     75      0     1.013    110.337    110.337   0\n",
    "\"\"\"\n",
    "re.match(pattern, test) is not None"
   ]
  },
  {
   "cell_type": "code",
   "execution_count": 27,
   "metadata": {},
   "outputs": [
    {
     "output_type": "execute_result",
     "data": {
      "text/plain": [
       "['                   15    DEPART              75             0',\n",
       " '\\x00        75             0       0\\n',\n",
       " ' FMS_OUT             6    0     75      0     1.013    110.337    110.337   0\\n',\n",
       " ' STANOK3_OUT         1    0     75     75     0.000      0.000      0.000   0\\n',\n",
       " ' STANOK3_IN          1    0     75     75     0.000      0.000      0.000   0\\n',\n",
       " ' STANOK2_OUT         1    0     75     75     0.000      0.000      0.000   0\\n',\n",
       " ' STANOK2_IN          1    0     75     75     0.000      0.000      0.000   0\\n',\n",
       " ' STANOK1_OUT         1    0     75     75     0.000      0.000      0.000   0\\n',\n",
       " ' STANOK1_IN          1    0     75     75     0.000      0.000      0.000   0\\n',\n",
       " ' FMS_IN              5    0     75      0     0.927    101.027    101.027   0\\n',\n",
       " 'QUEUE              MAX CONT. ENTRY ENTRY(0) AVE.CONT. AVE.TIME   AVE.(-0) RETRY\\n',\n",
       " '\\n',\n",
       " '\\n',\n",
       " ' STANOK3             75    0.153      16.676  1        0    0    0     0      0\\n',\n",
       " ' STANOK2             75    0.156      16.989  1        0    0    0     0      0\\n',\n",
       " ' STANOK1             75    0.157      17.051  1        0    0    0     0      0\\n',\n",
       " ' ROBOT              300    0.881      23.999  1        0    0    0     0      0\\n',\n",
       " 'FACILITY         ENTRIES  UTIL.   AVE. TIME AVAIL. OWNER PEND INTER RETRY DELAY\\n',\n",
       " '\\n',\n",
       " '\\n',\n",
       " '                0.000           8169.635    47        4          0\\n',\n",
       " '           START TIME           END TIME  BLOCKS  FACILITIES  STORAGES\\n',\n",
       " '\\n',\n",
       " '\\n',\n",
       " '\\n',\n",
       " 'RMULT 1,3,4,5']"
      ]
     },
     "metadata": {},
     "execution_count": 27
    }
   ],
   "source": [
    "lines[::-1]"
   ]
  }
 ]
}