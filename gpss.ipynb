{
 "metadata": {
  "language_info": {
   "codemirror_mode": {
    "name": "ipython",
    "version": 3
   },
   "file_extension": ".py",
   "mimetype": "text/x-python",
   "name": "python",
   "nbconvert_exporter": "python",
   "pygments_lexer": "ipython3",
   "version": "3.8.5-final"
  },
  "orig_nbformat": 2,
  "kernelspec": {
   "name": "python3",
   "display_name": "Python 3.8.5 64-bit ('base': conda)",
   "metadata": {
    "interpreter": {
     "hash": "0502f4d0b368ea295d19c82d840b74bf66f130c43fd090cbf09d4b521f9f7a54"
    }
   }
  }
 },
 "nbformat": 4,
 "nbformat_minor": 2,
 "cells": [
  {
   "cell_type": "code",
   "execution_count": 4,
   "metadata": {},
   "outputs": [],
   "source": [
    "import numpy as np"
   ]
  },
  {
   "cell_type": "code",
   "execution_count": 3,
   "metadata": {},
   "outputs": [
    {
     "output_type": "stream",
     "name": "stdout",
     "text": [
      "RMULT 5172979, 9469626, 7654598, 2823958, \nRMULT 5434049, 2783694, 4245176, 8447761, \nRMULT 1184841, 5209490, 5218728, 8211005, \nRMULT 5175444, 8128924, 365192, 5126712, \nRMULT 4716132, 8172305, 4052273, 3877967, \nRMULT 5007714, 2420424, 4546119, 9585569, \nRMULT 7663868, 1079002, 149992, 9107074, \nRMULT 2097794, 1256779, 624108, 7823031, \nRMULT 4495781, 6788391, 3897248, 5182450, \nRMULT 1992136, 5280163, 6309680, 4218898, \nRMULT 417483, 6267724, 9756208, 8844493, \nRMULT 8038058, 9563251, 3286474, 2488633, \nRMULT 2711404, 6698774, 3942332, 4356797, \nRMULT 9801535, 257489, 7621974, 304627, \nRMULT 4599893, 832274, 9083731, 5641024, \nRMULT 8605589, 341040, 1480367, 3610990, \nRMULT 2991505, 8676789, 1773092, 3143011, \nRMULT 795147, 5645931, 4912870, 5135887, \nRMULT 7341205, 6471129, 3721273, 787848, \nRMULT 1907465, 2884323, 5191840, 3608852, \n"
     ]
    }
   ],
   "source": [
    "# сгенерить рандомные числа для затравки случайности гпсс\n",
    "np.random.seed(234123)\n",
    "np.round(np.random.rand(4) * 10000000, 0)\n",
    "for i in range(0, 20):\n",
    "    np.random.seed(i * i * 100 - i * 23 + 23)\n",
    "    a = np.round(np.random.rand(4) * 10000000, 0)\n",
    "    print(\"RMULT \", end='')\n",
    "    for g in a:\n",
    "        print(f\"{int(g)}, \", end='')\n",
    "    print()\n",
    "\n"
   ]
  },
  {
   "cell_type": "code",
   "execution_count": 1,
   "metadata": {},
   "outputs": [
    {
     "output_type": "execute_result",
     "data": {
      "text/plain": [
       "   Unnamed: 0  STANOK1  STANOK2  STANOK3\n",
       "0           0    0.155    0.157    0.159\n",
       "1           1    0.175    0.177    0.176\n",
       "2           2    0.165    0.164    0.166\n",
       "3           3    0.175    0.176    0.176\n",
       "4           4    0.168    0.168    0.170"
      ],
      "text/html": "<div>\n<style scoped>\n    .dataframe tbody tr th:only-of-type {\n        vertical-align: middle;\n    }\n\n    .dataframe tbody tr th {\n        vertical-align: top;\n    }\n\n    .dataframe thead th {\n        text-align: right;\n    }\n</style>\n<table border=\"1\" class=\"dataframe\">\n  <thead>\n    <tr style=\"text-align: right;\">\n      <th></th>\n      <th>Unnamed: 0</th>\n      <th>STANOK1</th>\n      <th>STANOK2</th>\n      <th>STANOK3</th>\n    </tr>\n  </thead>\n  <tbody>\n    <tr>\n      <th>0</th>\n      <td>0</td>\n      <td>0.155</td>\n      <td>0.157</td>\n      <td>0.159</td>\n    </tr>\n    <tr>\n      <th>1</th>\n      <td>1</td>\n      <td>0.175</td>\n      <td>0.177</td>\n      <td>0.176</td>\n    </tr>\n    <tr>\n      <th>2</th>\n      <td>2</td>\n      <td>0.165</td>\n      <td>0.164</td>\n      <td>0.166</td>\n    </tr>\n    <tr>\n      <th>3</th>\n      <td>3</td>\n      <td>0.175</td>\n      <td>0.176</td>\n      <td>0.176</td>\n    </tr>\n    <tr>\n      <th>4</th>\n      <td>4</td>\n      <td>0.168</td>\n      <td>0.168</td>\n      <td>0.170</td>\n    </tr>\n  </tbody>\n</table>\n</div>"
     },
     "metadata": {},
     "execution_count": 1
    }
   ],
   "source": [
    "import pandas as pd \n",
    "data = pd.read_csv(\"report.csv\")\n",
    "data.head()"
   ]
  },
  {
   "cell_type": "code",
   "execution_count": 2,
   "metadata": {},
   "outputs": [
    {
     "output_type": "execute_result",
     "data": {
      "text/plain": [
       "Index(['Unnamed: 0', 'STANOK1', 'STANOK2', 'STANOK3'], dtype='object')"
      ]
     },
     "metadata": {},
     "execution_count": 2
    }
   ],
   "source": [
    "columns=data.columns\n",
    "columns"
   ]
  },
  {
   "source": [
    "Функция решатель для отчета лабы"
   ],
   "cell_type": "markdown",
   "metadata": {}
  },
  {
   "cell_type": "code",
   "execution_count": 7,
   "metadata": {},
   "outputs": [],
   "source": [
    "def mean_disp(arr: np.array):\n",
    "    mean = arr.mean()\n",
    "    disp =  (arr - mean) ** 2\n",
    "    disp = np.sum(disp) / ( arr.shape[0] - 1)\n",
    "    return (mean, disp)"
   ]
  },
  {
   "cell_type": "code",
   "execution_count": 14,
   "metadata": {},
   "outputs": [
    {
     "output_type": "stream",
     "name": "stdout",
     "text": [
      "0.1709 2.9884210526315795e-05\n"
     ]
    }
   ],
   "source": [
    "mean1, disp1 = mean_disp(data[columns[2]])\n",
    "print(mean1, disp1)"
   ]
  },
  {
   "cell_type": "code",
   "execution_count": null,
   "metadata": {},
   "outputs": [],
   "source": []
  }
 ]
}