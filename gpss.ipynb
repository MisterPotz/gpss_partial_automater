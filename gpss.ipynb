{
 "metadata": {
  "language_info": {
   "codemirror_mode": {
    "name": "ipython",
    "version": 3
   },
   "file_extension": ".py",
   "mimetype": "text/x-python",
   "name": "python",
   "nbconvert_exporter": "python",
   "pygments_lexer": "ipython3",
   "version": "3.8.5-final"
  },
  "orig_nbformat": 2,
  "kernelspec": {
   "name": "python3",
   "display_name": "Python 3.8.5 64-bit ('base': conda)",
   "metadata": {
    "interpreter": {
     "hash": "0502f4d0b368ea295d19c82d840b74bf66f130c43fd090cbf09d4b521f9f7a54"
    }
   }
  }
 },
 "nbformat": 4,
 "nbformat_minor": 2,
 "cells": [
  {
   "cell_type": "code",
   "execution_count": 1,
   "metadata": {},
   "outputs": [],
   "source": [
    "import numpy as np"
   ]
  },
  {
   "cell_type": "code",
   "execution_count": 47,
   "metadata": {},
   "outputs": [
    {
     "output_type": "execute_result",
     "data": {
      "text/plain": [
       "  Unnamed: 0  Оценка мат. ожидания N = 5  Оценка дисперсии N = 5  \\\n",
       "0    STANOK1                      0.1676                0.000069   \n",
       "1    STANOK2                      0.1684                0.000070   \n",
       "2    STANOK3                      0.1694                0.000052   \n",
       "\n",
       "   Оценка мат. ожидания N = 20  Оценка дисперсии N = 20  \n",
       "0                      0.17025                 0.000027  \n",
       "1                      0.17090                 0.000030  \n",
       "2                      0.17140                 0.000023  "
      ],
      "text/html": "<div>\n<style scoped>\n    .dataframe tbody tr th:only-of-type {\n        vertical-align: middle;\n    }\n\n    .dataframe tbody tr th {\n        vertical-align: top;\n    }\n\n    .dataframe thead th {\n        text-align: right;\n    }\n</style>\n<table border=\"1\" class=\"dataframe\">\n  <thead>\n    <tr style=\"text-align: right;\">\n      <th></th>\n      <th>Unnamed: 0</th>\n      <th>Оценка мат. ожидания N = 5</th>\n      <th>Оценка дисперсии N = 5</th>\n      <th>Оценка мат. ожидания N = 20</th>\n      <th>Оценка дисперсии N = 20</th>\n    </tr>\n  </thead>\n  <tbody>\n    <tr>\n      <th>0</th>\n      <td>STANOK1</td>\n      <td>0.1676</td>\n      <td>0.000069</td>\n      <td>0.17025</td>\n      <td>0.000027</td>\n    </tr>\n    <tr>\n      <th>1</th>\n      <td>STANOK2</td>\n      <td>0.1684</td>\n      <td>0.000070</td>\n      <td>0.17090</td>\n      <td>0.000030</td>\n    </tr>\n    <tr>\n      <th>2</th>\n      <td>STANOK3</td>\n      <td>0.1694</td>\n      <td>0.000052</td>\n      <td>0.17140</td>\n      <td>0.000023</td>\n    </tr>\n  </tbody>\n</table>\n</div>"
     },
     "metadata": {},
     "execution_count": 47
    }
   ],
   "source": [
    "import pandas as pd \n",
    "data = pd.read_csv(\"report.csv\")\n",
    "data.head()"
   ]
  },
  {
   "cell_type": "code",
   "execution_count": 52,
   "metadata": {},
   "outputs": [
    {
     "output_type": "execute_result",
     "data": {
      "text/plain": [
       "Index(['3', '4', '3'], dtype='object')"
      ]
     },
     "metadata": {},
     "execution_count": 52
    }
   ],
   "source": [
    "columns=data.columns\n",
    "columns\n",
    "data.index = ['3', '4' , '3']\n",
    "data.index"
   ]
  },
  {
   "source": [
    "Функция решатель для отчета лабы"
   ],
   "cell_type": "markdown",
   "metadata": {}
  },
  {
   "cell_type": "code",
   "execution_count": 6,
   "metadata": {},
   "outputs": [],
   "source": [
    "def mean_disp(arr: np.array):\n",
    "    mean = arr.mean()\n",
    "    disp =  (arr - mean) ** 2\n",
    "    disp = np.sum(disp) / ( arr.shape[0] - 1)\n",
    "    return (mean, disp)"
   ]
  },
  {
   "cell_type": "code",
   "execution_count": 28,
   "metadata": {},
   "outputs": [
    {
     "output_type": "stream",
     "name": "stdout",
     "text": [
      "row for stanok STANOK1 : [0.17139999999999997, 2.3094736842105312e-05, 0.17139999999999997, 2.3094736842105312e-05]\nrow for stanok STANOK2 : [0.17139999999999997, 2.3094736842105312e-05, 0.17139999999999997, 2.3094736842105312e-05]\nrow for stanok STANOK3 : [0.17139999999999997, 2.3094736842105312e-05, 0.17139999999999997, 2.3094736842105312e-05]\n"
     ]
    }
   ],
   "source": [
    "means_disps = \\\n",
    "    pd.DataFrame(columns=[\"Оценка мат. ожидания N = 5\", \"Оценка дисперсии N = 5\", \"Оценка мат. ожидания N = 20\", \"Оценка дисперсии N = 20\"])\n",
    "\n",
    "for i in columns:\n",
    "    arr = data[i]\n",
    "    row = []\n",
    "    for g in (5, 20):\n",
    "        arrg = arr[:g]\n",
    "        meang, dispg = mean_disp(arrg)\n",
    "        row.extend((meani, dispi))\n",
    "    print(f\"row for stanok {i} : {row}\")\n",
    "    means_disps = means_disps.append(dict(zip(means_disps.columns, row)), ignore_index = True)\n",
    "means_disps.index = columns\n",
    "means_disps.to_csv(\"test.csv\", sep=\",\", index=True)\n"
   ]
  },
  {
   "cell_type": "code",
   "execution_count": null,
   "metadata": {},
   "outputs": [],
   "source": [
    "1, 0.391"
   ]
  },
  {
   "cell_type": "code",
   "execution_count": 16,
   "metadata": {},
   "outputs": [],
   "source": [
    "fr = pd.DataFrame(columns=['d', 'df', 'gf'])"
   ]
  },
  {
   "cell_type": "code",
   "execution_count": 19,
   "metadata": {},
   "outputs": [
    {
     "output_type": "execute_result",
     "data": {
      "text/plain": [
       "     d   df   gf    0\n",
       "0  NaN  NaN  NaN  3.0\n",
       "1  NaN  NaN  NaN  4.0\n",
       "2  NaN  NaN  NaN  2.0"
      ],
      "text/html": "<div>\n<style scoped>\n    .dataframe tbody tr th:only-of-type {\n        vertical-align: middle;\n    }\n\n    .dataframe tbody tr th {\n        vertical-align: top;\n    }\n\n    .dataframe thead th {\n        text-align: right;\n    }\n</style>\n<table border=\"1\" class=\"dataframe\">\n  <thead>\n    <tr style=\"text-align: right;\">\n      <th></th>\n      <th>d</th>\n      <th>df</th>\n      <th>gf</th>\n      <th>0</th>\n    </tr>\n  </thead>\n  <tbody>\n    <tr>\n      <th>0</th>\n      <td>NaN</td>\n      <td>NaN</td>\n      <td>NaN</td>\n      <td>3.0</td>\n    </tr>\n    <tr>\n      <th>1</th>\n      <td>NaN</td>\n      <td>NaN</td>\n      <td>NaN</td>\n      <td>4.0</td>\n    </tr>\n    <tr>\n      <th>2</th>\n      <td>NaN</td>\n      <td>NaN</td>\n      <td>NaN</td>\n      <td>2.0</td>\n    </tr>\n  </tbody>\n</table>\n</div>"
     },
     "metadata": {},
     "execution_count": 19
    }
   ],
   "source": [
    "fr.append([3, 4, 2], ignore_index=True)"
   ]
  },
  {
   "cell_type": "code",
   "execution_count": 21,
   "metadata": {},
   "outputs": [
    {
     "output_type": "execute_result",
     "data": {
      "text/plain": [
       "{'d': 3, 'df': 4, 'gf': 2}"
      ]
     },
     "metadata": {},
     "execution_count": 21
    }
   ],
   "source": [
    "dict(zip(fr.columns, [3, 4, 2]))"
   ]
  },
  {
   "cell_type": "code",
   "execution_count": 32,
   "metadata": {},
   "outputs": [
    {
     "output_type": "execute_result",
     "data": {
      "text/plain": [
       "         Оценка мат. ожидания N = 5  Оценка дисперсии N = 5  \\\n",
       "STANOK1                      0.1714                0.000023   \n",
       "STANOK2                      0.1714                0.000023   \n",
       "STANOK3                      0.1714                0.000023   \n",
       "\n",
       "         Оценка мат. ожидания N = 20  Оценка дисперсии N = 20  \n",
       "STANOK1                       0.1714                 0.000023  \n",
       "STANOK2                       0.1714                 0.000023  \n",
       "STANOK3                       0.1714                 0.000023  "
      ],
      "text/html": "<div>\n<style scoped>\n    .dataframe tbody tr th:only-of-type {\n        vertical-align: middle;\n    }\n\n    .dataframe tbody tr th {\n        vertical-align: top;\n    }\n\n    .dataframe thead th {\n        text-align: right;\n    }\n</style>\n<table border=\"1\" class=\"dataframe\">\n  <thead>\n    <tr style=\"text-align: right;\">\n      <th></th>\n      <th>Оценка мат. ожидания N = 5</th>\n      <th>Оценка дисперсии N = 5</th>\n      <th>Оценка мат. ожидания N = 20</th>\n      <th>Оценка дисперсии N = 20</th>\n    </tr>\n  </thead>\n  <tbody>\n    <tr>\n      <th>STANOK1</th>\n      <td>0.1714</td>\n      <td>0.000023</td>\n      <td>0.1714</td>\n      <td>0.000023</td>\n    </tr>\n    <tr>\n      <th>STANOK2</th>\n      <td>0.1714</td>\n      <td>0.000023</td>\n      <td>0.1714</td>\n      <td>0.000023</td>\n    </tr>\n    <tr>\n      <th>STANOK3</th>\n      <td>0.1714</td>\n      <td>0.000023</td>\n      <td>0.1714</td>\n      <td>0.000023</td>\n    </tr>\n  </tbody>\n</table>\n</div>"
     },
     "metadata": {},
     "execution_count": 32
    }
   ],
   "source": [
    "pd.read_csv(\"test.csv\", sep=\",\", index_col=0)"
   ]
  },
  {
   "cell_type": "code",
   "execution_count": 37,
   "metadata": {},
   "outputs": [
    {
     "output_type": "stream",
     "name": "stdout",
     "text": [
      "[1. 1.]\n2.6666666666666665\n"
     ]
    }
   ],
   "source": [
    "a = np.array([1, 3, 4, 5, 7, 2, 3])\n",
    "print((a[:2] - a[:2].mean()) ** 2)\n",
    "print(a[:3].mean())"
   ]
  },
  {
   "source": [
    "Доверительный интервал"
   ],
   "cell_type": "markdown",
   "metadata": {}
  },
  {
   "cell_type": "code",
   "execution_count": 2,
   "metadata": {},
   "outputs": [],
   "source": [
    "import pandas as pd"
   ]
  },
  {
   "cell_type": "code",
   "execution_count": 4,
   "metadata": {},
   "outputs": [
    {
     "output_type": "execute_result",
     "data": {
      "text/plain": [
       "             0.40      0.25      0.10      0.05     0.025      0.01     0.005  \\\n",
       "ν/(α/2)                                                                         \n",
       "1.0      0.324920  1.000000  3.077684  6.313752  12.70620  31.82052  63.65674   \n",
       "2.0      0.288675  0.816497  1.885618  2.919986   4.30265   6.96456   9.92484   \n",
       "3.0      0.276671  0.764892  1.637744  2.353363   3.18245   4.54070   5.84091   \n",
       "4.0      0.270722  0.740697  1.533206  2.131847   2.77645   3.74695   4.60409   \n",
       "5.0      0.267181  0.726687  1.475884  2.015048   2.57058   3.36493   4.03214   \n",
       "6.0      0.264835  0.717558  1.439756  1.943180   2.44691   3.14267   3.70743   \n",
       "7.0      0.263167  0.711142  1.414924  1.894579   2.36462   2.99795   3.49948   \n",
       "8.0      0.261921  0.706387  1.396815  1.859548   2.30600   2.89646   3.35539   \n",
       "9.0      0.260955  0.702722  1.383029  1.833113   2.26216   2.82144   3.24984   \n",
       "10.0     0.260185  0.699812  1.372184  1.812461   2.22814   2.76377   3.16927   \n",
       "11.0     0.259556  0.697445  1.363430  1.795885   2.20099   2.71808   3.10581   \n",
       "12.0     0.259033  0.695483  1.356217  1.782288   2.17881   2.68100   3.05454   \n",
       "13.0     0.258591  0.693829  1.350171  1.770933   2.16037   2.65031   3.01228   \n",
       "14.0     0.258213  0.692417  1.345030  1.761310   2.14479   2.62449   2.97684   \n",
       "15.0     0.257885  0.691197  1.340606  1.753050   2.13145   2.60248   2.94671   \n",
       "16.0     0.257599  0.690132  1.336757  1.745884   2.11991   2.58349   2.92078   \n",
       "17.0     0.257347  0.689195  1.333379  1.739607   2.10982   2.56693   2.89823   \n",
       "18.0     0.257123  0.688364  1.330391  1.734064   2.10092   2.55238   2.87844   \n",
       "19.0     0.256923  0.687621  1.327728  1.729133   2.09302   2.53948   2.86093   \n",
       "20.0     0.256743  0.686954  1.325341  1.724718   2.08596   2.52798   2.84534   \n",
       "21.0     0.256580  0.686352  1.323188  1.720743   2.07961   2.51765   2.83136   \n",
       "22.0     0.256432  0.685805  1.321237  1.717144   2.07387   2.50832   2.81876   \n",
       "23.0     0.256297  0.685306  1.319460  1.713872   2.06866   2.49987   2.80734   \n",
       "24.0     0.256173  0.684850  1.317836  1.710882   2.06390   2.49216   2.79694   \n",
       "25.0     0.256060  0.684430  1.316345  1.708141   2.05954   2.48511   2.78744   \n",
       "26.0     0.255955  0.684043  1.314972  1.705618   2.05553   2.47863   2.77871   \n",
       "27.0     0.255858  0.683685  1.313703  1.703288   2.05183   2.47266   2.77068   \n",
       "28.0     0.255768  0.683353  1.312527  1.701131   2.04841   2.46714   2.76326   \n",
       "29.0     0.255684  0.683044  1.311434  1.699127   2.04523   2.46202   2.75639   \n",
       "30.0     0.255605  0.682756  1.310415  1.697261   2.04227   2.45726   2.75000   \n",
       "inf      0.253347  0.674490  1.281552  1.644854   1.95996   2.32635   2.57583   \n",
       "\n",
       "           0.0005  \n",
       "ν/(α/2)            \n",
       "1.0      636.6192  \n",
       "2.0       31.5991  \n",
       "3.0       12.9240  \n",
       "4.0        8.6103  \n",
       "5.0        6.8688  \n",
       "6.0        5.9588  \n",
       "7.0        5.4079  \n",
       "8.0        5.0413  \n",
       "9.0        4.7809  \n",
       "10.0       4.5869  \n",
       "11.0       4.4370  \n",
       "12.0       4.3178  \n",
       "13.0       4.2208  \n",
       "14.0       4.1405  \n",
       "15.0       4.0728  \n",
       "16.0       4.0150  \n",
       "17.0       3.9651  \n",
       "18.0       3.9216  \n",
       "19.0       3.8834  \n",
       "20.0       3.8495  \n",
       "21.0       3.8193  \n",
       "22.0       3.7921  \n",
       "23.0       3.7676  \n",
       "24.0       3.7454  \n",
       "25.0       3.7251  \n",
       "26.0       3.7066  \n",
       "27.0       3.6896  \n",
       "28.0       3.6739  \n",
       "29.0       3.6594  \n",
       "30.0       3.6460  \n",
       "inf        3.2905  "
      ],
      "text/html": "<div>\n<style scoped>\n    .dataframe tbody tr th:only-of-type {\n        vertical-align: middle;\n    }\n\n    .dataframe tbody tr th {\n        vertical-align: top;\n    }\n\n    .dataframe thead th {\n        text-align: right;\n    }\n</style>\n<table border=\"1\" class=\"dataframe\">\n  <thead>\n    <tr style=\"text-align: right;\">\n      <th></th>\n      <th>0.40</th>\n      <th>0.25</th>\n      <th>0.10</th>\n      <th>0.05</th>\n      <th>0.025</th>\n      <th>0.01</th>\n      <th>0.005</th>\n      <th>0.0005</th>\n    </tr>\n    <tr>\n      <th>ν/(α/2)</th>\n      <th></th>\n      <th></th>\n      <th></th>\n      <th></th>\n      <th></th>\n      <th></th>\n      <th></th>\n      <th></th>\n    </tr>\n  </thead>\n  <tbody>\n    <tr>\n      <th>1.0</th>\n      <td>0.324920</td>\n      <td>1.000000</td>\n      <td>3.077684</td>\n      <td>6.313752</td>\n      <td>12.70620</td>\n      <td>31.82052</td>\n      <td>63.65674</td>\n      <td>636.6192</td>\n    </tr>\n    <tr>\n      <th>2.0</th>\n      <td>0.288675</td>\n      <td>0.816497</td>\n      <td>1.885618</td>\n      <td>2.919986</td>\n      <td>4.30265</td>\n      <td>6.96456</td>\n      <td>9.92484</td>\n      <td>31.5991</td>\n    </tr>\n    <tr>\n      <th>3.0</th>\n      <td>0.276671</td>\n      <td>0.764892</td>\n      <td>1.637744</td>\n      <td>2.353363</td>\n      <td>3.18245</td>\n      <td>4.54070</td>\n      <td>5.84091</td>\n      <td>12.9240</td>\n    </tr>\n    <tr>\n      <th>4.0</th>\n      <td>0.270722</td>\n      <td>0.740697</td>\n      <td>1.533206</td>\n      <td>2.131847</td>\n      <td>2.77645</td>\n      <td>3.74695</td>\n      <td>4.60409</td>\n      <td>8.6103</td>\n    </tr>\n    <tr>\n      <th>5.0</th>\n      <td>0.267181</td>\n      <td>0.726687</td>\n      <td>1.475884</td>\n      <td>2.015048</td>\n      <td>2.57058</td>\n      <td>3.36493</td>\n      <td>4.03214</td>\n      <td>6.8688</td>\n    </tr>\n    <tr>\n      <th>6.0</th>\n      <td>0.264835</td>\n      <td>0.717558</td>\n      <td>1.439756</td>\n      <td>1.943180</td>\n      <td>2.44691</td>\n      <td>3.14267</td>\n      <td>3.70743</td>\n      <td>5.9588</td>\n    </tr>\n    <tr>\n      <th>7.0</th>\n      <td>0.263167</td>\n      <td>0.711142</td>\n      <td>1.414924</td>\n      <td>1.894579</td>\n      <td>2.36462</td>\n      <td>2.99795</td>\n      <td>3.49948</td>\n      <td>5.4079</td>\n    </tr>\n    <tr>\n      <th>8.0</th>\n      <td>0.261921</td>\n      <td>0.706387</td>\n      <td>1.396815</td>\n      <td>1.859548</td>\n      <td>2.30600</td>\n      <td>2.89646</td>\n      <td>3.35539</td>\n      <td>5.0413</td>\n    </tr>\n    <tr>\n      <th>9.0</th>\n      <td>0.260955</td>\n      <td>0.702722</td>\n      <td>1.383029</td>\n      <td>1.833113</td>\n      <td>2.26216</td>\n      <td>2.82144</td>\n      <td>3.24984</td>\n      <td>4.7809</td>\n    </tr>\n    <tr>\n      <th>10.0</th>\n      <td>0.260185</td>\n      <td>0.699812</td>\n      <td>1.372184</td>\n      <td>1.812461</td>\n      <td>2.22814</td>\n      <td>2.76377</td>\n      <td>3.16927</td>\n      <td>4.5869</td>\n    </tr>\n    <tr>\n      <th>11.0</th>\n      <td>0.259556</td>\n      <td>0.697445</td>\n      <td>1.363430</td>\n      <td>1.795885</td>\n      <td>2.20099</td>\n      <td>2.71808</td>\n      <td>3.10581</td>\n      <td>4.4370</td>\n    </tr>\n    <tr>\n      <th>12.0</th>\n      <td>0.259033</td>\n      <td>0.695483</td>\n      <td>1.356217</td>\n      <td>1.782288</td>\n      <td>2.17881</td>\n      <td>2.68100</td>\n      <td>3.05454</td>\n      <td>4.3178</td>\n    </tr>\n    <tr>\n      <th>13.0</th>\n      <td>0.258591</td>\n      <td>0.693829</td>\n      <td>1.350171</td>\n      <td>1.770933</td>\n      <td>2.16037</td>\n      <td>2.65031</td>\n      <td>3.01228</td>\n      <td>4.2208</td>\n    </tr>\n    <tr>\n      <th>14.0</th>\n      <td>0.258213</td>\n      <td>0.692417</td>\n      <td>1.345030</td>\n      <td>1.761310</td>\n      <td>2.14479</td>\n      <td>2.62449</td>\n      <td>2.97684</td>\n      <td>4.1405</td>\n    </tr>\n    <tr>\n      <th>15.0</th>\n      <td>0.257885</td>\n      <td>0.691197</td>\n      <td>1.340606</td>\n      <td>1.753050</td>\n      <td>2.13145</td>\n      <td>2.60248</td>\n      <td>2.94671</td>\n      <td>4.0728</td>\n    </tr>\n    <tr>\n      <th>16.0</th>\n      <td>0.257599</td>\n      <td>0.690132</td>\n      <td>1.336757</td>\n      <td>1.745884</td>\n      <td>2.11991</td>\n      <td>2.58349</td>\n      <td>2.92078</td>\n      <td>4.0150</td>\n    </tr>\n    <tr>\n      <th>17.0</th>\n      <td>0.257347</td>\n      <td>0.689195</td>\n      <td>1.333379</td>\n      <td>1.739607</td>\n      <td>2.10982</td>\n      <td>2.56693</td>\n      <td>2.89823</td>\n      <td>3.9651</td>\n    </tr>\n    <tr>\n      <th>18.0</th>\n      <td>0.257123</td>\n      <td>0.688364</td>\n      <td>1.330391</td>\n      <td>1.734064</td>\n      <td>2.10092</td>\n      <td>2.55238</td>\n      <td>2.87844</td>\n      <td>3.9216</td>\n    </tr>\n    <tr>\n      <th>19.0</th>\n      <td>0.256923</td>\n      <td>0.687621</td>\n      <td>1.327728</td>\n      <td>1.729133</td>\n      <td>2.09302</td>\n      <td>2.53948</td>\n      <td>2.86093</td>\n      <td>3.8834</td>\n    </tr>\n    <tr>\n      <th>20.0</th>\n      <td>0.256743</td>\n      <td>0.686954</td>\n      <td>1.325341</td>\n      <td>1.724718</td>\n      <td>2.08596</td>\n      <td>2.52798</td>\n      <td>2.84534</td>\n      <td>3.8495</td>\n    </tr>\n    <tr>\n      <th>21.0</th>\n      <td>0.256580</td>\n      <td>0.686352</td>\n      <td>1.323188</td>\n      <td>1.720743</td>\n      <td>2.07961</td>\n      <td>2.51765</td>\n      <td>2.83136</td>\n      <td>3.8193</td>\n    </tr>\n    <tr>\n      <th>22.0</th>\n      <td>0.256432</td>\n      <td>0.685805</td>\n      <td>1.321237</td>\n      <td>1.717144</td>\n      <td>2.07387</td>\n      <td>2.50832</td>\n      <td>2.81876</td>\n      <td>3.7921</td>\n    </tr>\n    <tr>\n      <th>23.0</th>\n      <td>0.256297</td>\n      <td>0.685306</td>\n      <td>1.319460</td>\n      <td>1.713872</td>\n      <td>2.06866</td>\n      <td>2.49987</td>\n      <td>2.80734</td>\n      <td>3.7676</td>\n    </tr>\n    <tr>\n      <th>24.0</th>\n      <td>0.256173</td>\n      <td>0.684850</td>\n      <td>1.317836</td>\n      <td>1.710882</td>\n      <td>2.06390</td>\n      <td>2.49216</td>\n      <td>2.79694</td>\n      <td>3.7454</td>\n    </tr>\n    <tr>\n      <th>25.0</th>\n      <td>0.256060</td>\n      <td>0.684430</td>\n      <td>1.316345</td>\n      <td>1.708141</td>\n      <td>2.05954</td>\n      <td>2.48511</td>\n      <td>2.78744</td>\n      <td>3.7251</td>\n    </tr>\n    <tr>\n      <th>26.0</th>\n      <td>0.255955</td>\n      <td>0.684043</td>\n      <td>1.314972</td>\n      <td>1.705618</td>\n      <td>2.05553</td>\n      <td>2.47863</td>\n      <td>2.77871</td>\n      <td>3.7066</td>\n    </tr>\n    <tr>\n      <th>27.0</th>\n      <td>0.255858</td>\n      <td>0.683685</td>\n      <td>1.313703</td>\n      <td>1.703288</td>\n      <td>2.05183</td>\n      <td>2.47266</td>\n      <td>2.77068</td>\n      <td>3.6896</td>\n    </tr>\n    <tr>\n      <th>28.0</th>\n      <td>0.255768</td>\n      <td>0.683353</td>\n      <td>1.312527</td>\n      <td>1.701131</td>\n      <td>2.04841</td>\n      <td>2.46714</td>\n      <td>2.76326</td>\n      <td>3.6739</td>\n    </tr>\n    <tr>\n      <th>29.0</th>\n      <td>0.255684</td>\n      <td>0.683044</td>\n      <td>1.311434</td>\n      <td>1.699127</td>\n      <td>2.04523</td>\n      <td>2.46202</td>\n      <td>2.75639</td>\n      <td>3.6594</td>\n    </tr>\n    <tr>\n      <th>30.0</th>\n      <td>0.255605</td>\n      <td>0.682756</td>\n      <td>1.310415</td>\n      <td>1.697261</td>\n      <td>2.04227</td>\n      <td>2.45726</td>\n      <td>2.75000</td>\n      <td>3.6460</td>\n    </tr>\n    <tr>\n      <th>inf</th>\n      <td>0.253347</td>\n      <td>0.674490</td>\n      <td>1.281552</td>\n      <td>1.644854</td>\n      <td>1.95996</td>\n      <td>2.32635</td>\n      <td>2.57583</td>\n      <td>3.2905</td>\n    </tr>\n  </tbody>\n</table>\n</div>"
     },
     "metadata": {},
     "execution_count": 4
    }
   ],
   "source": [
    "conf = pd.read_csv(\"confidence_interval.csv\", index_col=0)\n",
    "conf"
   ]
  },
  {
   "cell_type": "code",
   "execution_count": 43,
   "metadata": {},
   "outputs": [
    {
     "output_type": "execute_result",
     "data": {
      "text/plain": [
       "             0.10\n",
       "ν/(α/2)          \n",
       "3.0      1.637744"
      ],
      "text/html": "<div>\n<style scoped>\n    .dataframe tbody tr th:only-of-type {\n        vertical-align: middle;\n    }\n\n    .dataframe tbody tr th {\n        vertical-align: top;\n    }\n\n    .dataframe thead th {\n        text-align: right;\n    }\n</style>\n<table border=\"1\" class=\"dataframe\">\n  <thead>\n    <tr style=\"text-align: right;\">\n      <th></th>\n      <th>0.10</th>\n    </tr>\n    <tr>\n      <th>ν/(α/2)</th>\n      <th></th>\n    </tr>\n  </thead>\n  <tbody>\n    <tr>\n      <th>3.0</th>\n      <td>1.637744</td>\n    </tr>\n  </tbody>\n</table>\n</div>"
     },
     "metadata": {},
     "execution_count": 43
    }
   ],
   "source": [
    "conf.loc[conf.index == 3, conf.columns.astype('float64') == 0.1]\n",
    "confidence_table.loc[ confidence_table.index == 3][ confidence_table.columns.astype('float64') == acc ]"
   ]
  },
  {
   "cell_type": "code",
   "execution_count": 45,
   "metadata": {},
   "outputs": [
    {
     "output_type": "execute_result",
     "data": {
      "text/plain": [
       "             0.05\n",
       "ν/(α/2)          \n",
       "3.0      2.353363"
      ],
      "text/html": "<div>\n<style scoped>\n    .dataframe tbody tr th:only-of-type {\n        vertical-align: middle;\n    }\n\n    .dataframe tbody tr th {\n        vertical-align: top;\n    }\n\n    .dataframe thead th {\n        text-align: right;\n    }\n</style>\n<table border=\"1\" class=\"dataframe\">\n  <thead>\n    <tr style=\"text-align: right;\">\n      <th></th>\n      <th>0.05</th>\n    </tr>\n    <tr>\n      <th>ν/(α/2)</th>\n      <th></th>\n    </tr>\n  </thead>\n  <tbody>\n    <tr>\n      <th>3.0</th>\n      <td>2.353363</td>\n    </tr>\n  </tbody>\n</table>\n</div>"
     },
     "metadata": {},
     "execution_count": 45
    }
   ],
   "source": [
    "def find_t(confidence_table, N, accuracy):\n",
    "    acc = accuracy / 2\n",
    "    v = N - 1\n",
    "    return confidence_table.loc[ confidence_table.index == v, confidence_table.columns.astype('float64') == acc ]\n",
    "\n",
    "def confidence_interval(accuracy, arr):\n",
    "    mean, disp = mean_disp(arr)\n",
    "    t = find_t(conf, arr.shape[0])\n",
    "    diff = t * sqrt(disp / arr.shape[0])\n",
    "\n",
    "t(conf, 4, 0.1)"
   ]
  },
  {
   "cell_type": "code",
   "execution_count": 53,
   "metadata": {},
   "outputs": [
    {
     "output_type": "error",
     "ename": "NameError",
     "evalue": "name 'raw_columns' is not defined",
     "traceback": [
      "\u001b[0;31m---------------------------------------------------------------------------\u001b[0m",
      "\u001b[0;31mNameError\u001b[0m                                 Traceback (most recent call last)",
      "\u001b[0;32m<ipython-input-53-d2aaa2bb2155>\u001b[0m in \u001b[0;36m<module>\u001b[0;34m\u001b[0m\n\u001b[0;32m----> 1\u001b[0;31m \u001b[0;32mfor\u001b[0m \u001b[0mi\u001b[0m \u001b[0;32min\u001b[0m \u001b[0mraw_columns\u001b[0m\u001b[0;34m:\u001b[0m\u001b[0;34m\u001b[0m\u001b[0;34m\u001b[0m\u001b[0m\n\u001b[0m\u001b[1;32m      2\u001b[0m     \u001b[0mframei\u001b[0m \u001b[0;34m=\u001b[0m \u001b[0mpd\u001b[0m\u001b[0;34m.\u001b[0m\u001b[0mDataFrame\u001b[0m\u001b[0;34m(\u001b[0m\u001b[0mcolumns\u001b[0m\u001b[0;34m=\u001b[0m\u001b[0;34m[\u001b[0m\u001b[0;34m\"N = 5\"\u001b[0m\u001b[0;34m,\u001b[0m \u001b[0;34m\"N = 20\"\u001b[0m\u001b[0;34m]\u001b[0m\u001b[0;34m)\u001b[0m\u001b[0;34m\u001b[0m\u001b[0;34m\u001b[0m\u001b[0m\n\u001b[1;32m      3\u001b[0m     \u001b[0mcolumns\u001b[0m \u001b[0;34m=\u001b[0m \u001b[0mframei\u001b[0m\u001b[0;34m.\u001b[0m\u001b[0mcolumns\u001b[0m\u001b[0;34m\u001b[0m\u001b[0;34m\u001b[0m\u001b[0m\n\u001b[1;32m      4\u001b[0m     \u001b[0mnew_table\u001b[0m \u001b[0;34m=\u001b[0m \u001b[0;34m[\u001b[0m\u001b[0;34m]\u001b[0m\u001b[0;34m\u001b[0m\u001b[0;34m\u001b[0m\u001b[0m\n\u001b[1;32m      5\u001b[0m     \u001b[0;32mdef\u001b[0m \u001b[0mcreate_row\u001b[0m\u001b[0;34m(\u001b[0m\u001b[0mcolumn\u001b[0m\u001b[0;34m,\u001b[0m \u001b[0maccuracy\u001b[0m\u001b[0;34m)\u001b[0m\u001b[0;34m:\u001b[0m\u001b[0;34m\u001b[0m\u001b[0;34m\u001b[0m\u001b[0m\n",
      "\u001b[0;31mNameError\u001b[0m: name 'raw_columns' is not defined"
     ]
    }
   ],
   "source": [
    "for i in raw_columns:\n",
    "    framei = pd.DataFrame(columns=[\"N = 5\", \"N = 20\"])\n",
    "    columns = framei.columns\n",
    "    new_table = []\n",
    "    def create_row(column, accuracy):\n",
    "        arr = raw_data[column]\n",
    "        row = []\n",
    "        for i in [5, 20]:\n",
    "            teta = confidence_interval(accuracy, arr[:i])\n",
    "            row.extend((teta))\n",
    "        row = dict(zip(columns, row))\n",
    "        framei.append(row, ignore_index=True)\n",
    "    map(lambda x: create_row(i, x), [0.1, 0.05])\n",
    "    framei.index = ['acc 0.1', 'acc 0.05']\n",
    "    framei.to_csv(f\"stanok_conf_{i}.csv\", sep=',', index=True)\n"
   ]
  },
  {
   "cell_type": "code",
   "execution_count": 56,
   "metadata": {},
   "outputs": [
    {
     "output_type": "execute_result",
     "data": {
      "text/plain": [
       "[(3, 4)]"
      ]
     },
     "metadata": {},
     "execution_count": 56
    }
   ],
   "source": [
    "row = []\n",
    "row.append((3, 4))\n",
    "row"
   ]
  },
  {
   "cell_type": "code",
   "execution_count": 70,
   "metadata": {},
   "outputs": [
    {
     "output_type": "stream",
     "name": "stdout",
     "text": [
      "2.131847\n"
     ]
    }
   ],
   "source": [
    "print(conf.loc[ conf.index == 4, conf.columns.astype('float64') == 0.05 ].to_numpy()[0][0])"
   ]
  },
  {
   "cell_type": "code",
   "execution_count": null,
   "metadata": {},
   "outputs": [],
   "source": []
  }
 ]
}